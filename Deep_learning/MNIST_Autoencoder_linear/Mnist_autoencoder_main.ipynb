{
 "cells": [
  {
   "cell_type": "code",
   "execution_count": null,
   "metadata": {},
   "outputs": [],
   "source": [
    "import torch\n",
    "from torchvision import transforms\n",
    "from torchvision.datasets import MNIST\n",
    "from torch.utils.data.dataloader import DataLoader\n",
    "from autoencoder_class import Autoencoder\n",
    "import torch.nn as nn\n",
    "import matplotlib.pyplot as plt\n",
    "from autoencoder_functions import fit\n",
    "from sklearn import metrics\n",
    "import numpy as np\n",
    "\n",
    "BATCH_SIZE = 5\n",
    "EPOCHS = 10\n",
    "\n",
    "# Transforms\n",
    "transform = transforms.Compose([transforms.ToTensor()])\n",
    "\n",
    "# Train_dataset\n",
    "train_dataset = MNIST(\n",
    "    root=\"../../data/MNIST\",train=True, transform=transform, download=True\n",
    ")\n",
    "# Test_dataset\n",
    "test_dataset = MNIST(\n",
    "    root=\"../../data/MNIST\", train=False, transform=transform, download=True\n",
    ")\n",
    "# Train_dataloader\n",
    "train_dl = torch.utils.data.DataLoader(\n",
    "    train_dataset, batch_size=BATCH_SIZE, shuffle=True, num_workers=4, pin_memory=True\n",
    ")\n",
    "# Test_dataloader\n",
    "test_dl = torch.utils.data.DataLoader(\n",
    "    test_dataset, batch_size=BATCH_SIZE, shuffle=False, num_workers=4\n",
    ")\n",
    "\n",
    "# Iterator\n",
    "dataiter = iter(train_dl)\n",
    "# Runs through the batches of data\n",
    "data=dataiter.next() \n",
    "\n",
    "#  use gpu if available\n",
    "device = torch.device(\"cuda\" if torch.cuda.is_available() else \"cpu\")\n",
    "\n",
    "# Autoencoder object\n",
    "model = Autoencoder()\n",
    "# load it to the specified device, either gpu or cpu\n",
    "model.to(device=device)\n",
    "\n",
    "criterion = nn.MSELoss()\n",
    "optimizer = torch.optim.Adam(model.parameters(),lr=1e-3,weight_decay=1e-5)\n",
    "\n",
    "# Calling fit method for training\n",
    "outputs = fit(epochs=EPOCHS,model=model, criterion=criterion,optimizer=optimizer,\n",
    "            train_dl=train_dl,test_dl=test_dl,metric=None)"
   ]
  },
  {
   "cell_type": "code",
   "execution_count": null,
   "metadata": {},
   "outputs": [],
   "source": [
    "for k in range (0,EPOCHS,1):\n",
    "    plt.figure(figsize=(9,2))\n",
    "    plt.gray()\n",
    "    imgs = outputs[k][1].cpu().detach().numpy()\n",
    "    imgs_recon =  outputs[k][2].cpu().detach().numpy()\n",
    "    for batch_number,item in enumerate(imgs):\n",
    "        if batch_number >= 9: break\n",
    "        plt.subplot(2,9,batch_number + 1)\n",
    "        item = item.reshape(-1,28,28)  # -1 is for the channel\n",
    "        plt.imshow(item[0])\n",
    "    for batch_number,item in enumerate(imgs_recon):\n",
    "        if batch_number >= 9: break\n",
    "        plt.subplot(2,9,9+batch_number + 1)\n",
    "        item = item.reshape(-1,28,28)  # -1 is for the channel\n",
    "        plt.imshow(item[0])\n",
    "    \n",
    "    score1=np.sqrt(metrics.mean_squared_error(imgs,imgs_recon))\n",
    "    print(score1)\n",
    "    break"
   ]
  }
 ],
 "metadata": {
  "interpreter": {
   "hash": "718d07e60dced596bd839004bec8bf5e775776afd8190a951e581f02feaaee62"
  },
  "kernelspec": {
   "display_name": "Python 3.7.5 ('torch_cp37')",
   "language": "python",
   "name": "python3"
  },
  "language_info": {
   "codemirror_mode": {
    "name": "ipython",
    "version": 3
   },
   "file_extension": ".py",
   "mimetype": "text/x-python",
   "name": "python",
   "nbconvert_exporter": "python",
   "pygments_lexer": "ipython3",
   "version": "3.7.5"
  },
  "orig_nbformat": 4
 },
 "nbformat": 4,
 "nbformat_minor": 2
}
